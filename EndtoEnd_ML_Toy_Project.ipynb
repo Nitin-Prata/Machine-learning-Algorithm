{
 "cells": [
  {
   "cell_type": "markdown",
   "id": "9f281bcf",
   "metadata": {},
   "source": [
    "### End to End ML Toy Project"
   ]
  }
 ],
 "metadata": {
  "kernelspec": {
   "display_name": "Python 3",
   "language": "python",
   "name": "python3"
  },
  "language_info": {
   "name": "python",
   "version": "3.9.9"
  }
 },
 "nbformat": 4,
 "nbformat_minor": 5
}
