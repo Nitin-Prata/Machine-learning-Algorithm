{
 "cells": [
  {
   "cell_type": "code",
   "execution_count": null,
   "id": "6b149256",
   "metadata": {},
   "outputs": [],
   "source": [
    "\n",
    "df.columns = boston.feature_names\n",
    "df['MEDV'] = boston.target"
   ]
  },
  {
   "cell_type": "code",
   "execution_count": null,
   "id": "d2a120eb",
   "metadata": {},
   "outputs": [],
   "source": [
    "\n",
    "df.head()"
   ]
  },
  {
   "cell_type": "code",
   "execution_count": null,
   "id": "64686dd3",
   "metadata": {},
   "outputs": [],
   "source": [
    "X = df.iloc[:,0:13]\n",
    "y = df.iloc[:,13]"
   ]
  },
  {
   "cell_type": "code",
   "execution_count": null,
   "id": "b4ccb52d",
   "metadata": {},
   "outputs": [],
   "source": []
  },
  {
   "cell_type": "code",
   "execution_count": null,
   "id": "0a85f489",
   "metadata": {},
   "outputs": [],
   "source": [
    "\n",
    "rt = DecisionTreeRegressor(criterion = 'mse', max_depth=5)"
   ]
  },
  {
   "cell_type": "code",
   "execution_count": null,
   "id": "3fef1b4d",
   "metadata": {},
   "outputs": [],
   "source": [
    "rt.fit(X_train,y_train)"
   ]
  },
  {
   "cell_type": "code",
   "execution_count": null,
   "id": "4a37a633",
   "metadata": {},
   "outputs": [],
   "source": [
    "\n",
    "y_pred = rt.predict(X_test)"
   ]
  },
  {
   "cell_type": "code",
   "execution_count": null,
   "id": "f1c85a7d",
   "metadata": {},
   "outputs": [],
   "source": [
    "\n",
    "r2_score(y_test,y_pred)"
   ]
  },
  {
   "cell_type": "markdown",
   "id": "1773c288",
   "metadata": {},
   "source": [
    "### Hyperparameter Tuning"
   ]
  },
  {
   "cell_type": "code",
   "execution_count": null,
   "id": "68d342eb",
   "metadata": {},
   "outputs": [],
   "source": [
    "\n",
    "param_grid = {\n",
    "    'max_depth':[2,4,8,10,None],\n",
    "    'criterion':['mse','mae'],\n",
    "    'max_features':[0.25,0.5,1.0],\n",
    "    'min_samples_split':[0.25,0.5,1.0]\n",
    "}"
   ]
  },
  {
   "cell_type": "code",
   "execution_count": null,
   "id": "6cff5f75",
   "metadata": {},
   "outputs": [],
   "source": [
    "reg = GridSearchCV(DecisionTreeRegressor(),param_grid=param_grid)"
   ]
  },
  {
   "cell_type": "code",
   "execution_count": null,
   "id": "84d82a2f",
   "metadata": {},
   "outputs": [],
   "source": [
    "reg.fit(X_train,y_train)"
   ]
  },
  {
   "cell_type": "code",
   "execution_count": null,
   "id": "38857a50",
   "metadata": {},
   "outputs": [],
   "source": [
    "\n",
    "reg.best_score_"
   ]
  },
  {
   "cell_type": "code",
   "execution_count": null,
   "id": "8e94c346",
   "metadata": {},
   "outputs": [],
   "source": [
    "\n",
    "reg.best_params_"
   ]
  },
  {
   "cell_type": "markdown",
   "id": "4a1f4481",
   "metadata": {},
   "source": [
    "### Feature Importance"
   ]
  },
  {
   "cell_type": "code",
   "execution_count": null,
   "id": "fcbc4383",
   "metadata": {},
   "outputs": [],
   "source": [
    "for importance, name in sorted(zip(rt.feature_importances_, X_train.columns),reverse=True):\n",
    "  print (name, importance)\n",
    "     "
   ]
  },
  {
   "cell_type": "code",
   "execution_count": null,
   "id": "34b86b41",
   "metadata": {},
   "outputs": [],
   "source": []
  },
  {
   "cell_type": "code",
   "execution_count": null,
   "id": "9ecb4314",
   "metadata": {},
   "outputs": [],
   "source": []
  },
  {
   "cell_type": "code",
   "execution_count": null,
   "id": "422d6872",
   "metadata": {},
   "outputs": [],
   "source": []
  }
 ],
 "metadata": {
  "kernelspec": {
   "display_name": "venv",
   "language": "python",
   "name": "python3"
  },
  "language_info": {
   "codemirror_mode": {
    "name": "ipython",
    "version": 3
   },
   "file_extension": ".py",
   "mimetype": "text/x-python",
   "name": "python",
   "nbconvert_exporter": "python",
   "pygments_lexer": "ipython3",
   "version": "3.11.9"
  }
 },
 "nbformat": 4,
 "nbformat_minor": 5
}
